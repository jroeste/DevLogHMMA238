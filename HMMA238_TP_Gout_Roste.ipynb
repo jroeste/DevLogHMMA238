{
 "cells": [
  {
   "cell_type": "markdown",
   "metadata": {},
   "source": [
    "# TP - HMMA238"
   ]
  },
  {
   "cell_type": "markdown",
   "metadata": {},
   "source": [
    "By Mathias Gout and Julie Røste."
   ]
  },
  {
   "cell_type": "code",
   "execution_count": 76,
   "metadata": {},
   "outputs": [],
   "source": [
    "import numpy as np\n",
    "import matplotlib.pyplot as plt\n",
    "plt.rcParams[\"figure.figsize\"] = (17,8)"
   ]
  },
  {
   "cell_type": "markdown",
   "metadata": {},
   "source": [
    "## Exercice 1 - Le jeu de la vie"
   ]
  },
  {
   "cell_type": "markdown",
   "metadata": {},
   "source": [
    "### Question 4"
   ]
  },
  {
   "cell_type": "code",
   "execution_count": 61,
   "metadata": {},
   "outputs": [
    {
     "data": {
      "text/plain": [
       "[[0, 0, 0, 0, 0, 0],\n",
       " [0, 1, 3, 1, 2, 0],\n",
       " [0, 1, 5, 3, 3, 0],\n",
       " [0, 2, 3, 2, 2, 0],\n",
       " [0, 1, 2, 2, 1, 0],\n",
       " [0, 0, 0, 0, 0, 0]]"
      ]
     },
     "execution_count": 61,
     "metadata": {},
     "output_type": "execute_result"
    }
   ],
   "source": [
    "# Question 4\n",
    "\n",
    "from utils import calcul_nb_voisins\n",
    "\n",
    "Z_init = [[0,0,0,0,0,0], \n",
    "     [0,0,0,1,0,0], \n",
    "     [0,1,0,1,0,0], \n",
    "     [0,0,1,1,0,0],\n",
    "     [0,0,0,0,0,0], \n",
    "     [0,0,0,0,0,0]]\n",
    "     \n",
    "# calcul_nb_voisins(Z) renvoie le nombre de voisins vivants de chaque cellule.\n",
    "calcul_nb_voisins(Z_init)"
   ]
  },
  {
   "cell_type": "markdown",
   "metadata": {},
   "source": [
    "On a calculé les voisins de Z. "
   ]
  },
  {
   "cell_type": "markdown",
   "metadata": {},
   "source": [
    "### Question 5"
   ]
  },
  {
   "cell_type": "code",
   "execution_count": 77,
   "metadata": {},
   "outputs": [
    {
     "data": {
      "image/png": "[encoded data removed]",
      "text/plain": [
       "<matplotlib.figure.Figure at 0x2ac94946240>"
      ]
     },
     "metadata": {},
     "output_type": "display_data"
    }
   ],
   "source": [
    "# Question 5\n",
    "\n",
    "from utils import iteration_jeu\n",
    "\n",
    "Z = np.asarray(Z_init)\n",
    "nbIterations = 10\n",
    "#plt.figure(figsize=(10,5))\n",
    "plt.subplot(2,5,1)\n",
    "plt.title(\"Iter. 0\")\n",
    "plt.imshow(Z)\n",
    "for i in range(2,nbIterations+1):\n",
    "    plt.subplot(2,5,i)\n",
    "    Z = iteration_jeu(Z)\n",
    "    plt.title(\"Iter. \"+str(i-1))\n",
    "    plt.imshow(Z)"
   ]
  },
  {
   "cell_type": "markdown",
   "metadata": {},
   "source": [
    "On remarque qu'on a le même figure, mais il a été bougé à droite et au bas."
   ]
  },
  {
   "cell_type": "code",
   "execution_count": null,
   "metadata": {},
   "outputs": [],
   "source": []
  }
 ],
 "metadata": {
  "kernelspec": {
   "display_name": "Python 3",
   "language": "python",
   "name": "python3"
  },
  "language_info": {
   "codemirror_mode": {
    "name": "ipython",
    "version": 3
   },
   "file_extension": ".py",
   "mimetype": "text/x-python",
   "name": "python",
   "nbconvert_exporter": "python",
   "pygments_lexer": "ipython3",
   "version": "3.6.4"
  }
 },
 "nbformat": 4,
 "nbformat_minor": 2
}
