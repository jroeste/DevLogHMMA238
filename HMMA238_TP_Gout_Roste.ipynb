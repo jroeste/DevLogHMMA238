{
 "cells": [
  {
   "cell_type": "markdown",
   "metadata": {},
   "source": [
    "# TP - HMMA238"
   ]
  },
  {
   "cell_type": "markdown",
   "metadata": {},
   "source": [
    "Par Mathias Gout et Julie Røste."
   ]
  },
  {
   "cell_type": "code",
   "execution_count": null,
   "metadata": {},
   "outputs": [],
   "source": [
    "import numpy as np\n",
    "import matplotlib.pyplot as plt"
   ]
  },
  {
   "cell_type": "markdown",
   "metadata": {},
   "source": [
    "## Exercice 1 - Le jeu de la vie"
   ]
  },
  {
   "cell_type": "markdown",
   "metadata": {},
   "source": [
    "### Question 4:"
   ]
  },
  {
   "cell_type": "code",
   "execution_count": null,
   "metadata": {},
   "outputs": [],
   "source": [
    "from utils import calcul_nb_voisins\n",
    "from utils import iteration_jeu\n",
    "Z_init = [[0,0,0,0,0,0], \n",
    "          [0,0,0,1,0,0], \n",
    "          [0,1,0,1,0,0], \n",
    "          [0,0,1,1,0,0],\n",
    "          [0,0,0,0,0,0], \n",
    "          [0,0,0,0,0,0]]\n",
    "     \n",
    "\n",
    "calcul_nb_voisins(Z_init)"
   ]
  },
  {
   "cell_type": "markdown",
   "metadata": {},
   "source": [
    "`calcul_nb_voisins(Z)` affiche le nombre de voisins vivants de chaque cellules"
   ]
  },
  {
   "cell_type": "markdown",
   "metadata": {},
   "source": [
    "### Question 5:"
   ]
  },
  {
   "cell_type": "code",
   "execution_count": null,
   "metadata": {},
   "outputs": [],
   "source": [
    "Z_init"
   ]
  },
  {
   "cell_type": "code",
   "execution_count": null,
   "metadata": {},
   "outputs": [],
   "source": [
    "def plotJeuDeLaVie(nbIterations,Z,iter_func):\n",
    "    \"\"\"\n",
    "    Plotting the evolution of the matrices of Jeu de La Vie.\n",
    "    \"\"\"\n",
    "    Zcopy = Z.copy()\n",
    "    plt.figure(figsize=(15,6))\n",
    "    plt.subplot(2,5,1)\n",
    "    plt.title(\"Iteration 0\")\n",
    "    plt.imshow(Zcopy)\n",
    "    for i in range(2,nbIterations+1):\n",
    "        plt.subplot(2,5,i)\n",
    "        Zcopy = iter_func(Zcopy)\n",
    "        plt.title(\"Iteration \"+str(i-1))\n",
    "        plt.imshow(Zcopy)\n",
    "\n",
    "plotJeuDeLaVie(8,np.asarray(Z_init),iteration_jeu)"
   ]
  },
  {
   "cell_type": "markdown",
   "metadata": {},
   "source": [
    "### Question 6:\n",
    "\n",
    "On remarque que les cellules vivantes de l'itération 0 sont disposées de la même façon que celles de l'itération 4. \n",
    "<br/>Entre l'itération 0 et 4, les cellules vivantes se sont toutes déplacées d'une cellule en bas et d'une cellule à droite.\n",
    "\n",
    "A partir de l'itération 7, les cellules ne changent plus d'état. \n",
    "Les quatres cellules vivantes sont regroupées en bas à droite et ont toutes 3 voisins vivants (aucun décès possible).\n",
    "<br/>Comme aucune cellule morte n'a 3 voisins vivants (pas de naissance possible), il n'y aura pas d'évolution dans les prochaines itérations.\n"
   ]
  },
  {
   "cell_type": "markdown",
   "metadata": {},
   "source": [
    "### Question 7 - Implémentation avec `numba`"
   ]
  },
  {
   "cell_type": "code",
   "execution_count": null,
   "metadata": {},
   "outputs": [],
   "source": [
    "from numba import jit"
   ]
  },
  {
   "cell_type": "markdown",
   "metadata": {},
   "source": [
    "Comments: Have to rewrite functions to numpy, it not it didn't work..... So they are rewritten in utils to `calcul_np_voisins_np` and `iteration_jeu_np`. "
   ]
  },
  {
   "cell_type": "code",
   "execution_count": null,
   "metadata": {},
   "outputs": [],
   "source": [
    "Z_init = [[0,0,0,0,0,0], # remark: Using python list\n",
    "          [0,0,0,1,0,0], \n",
    "          [0,1,0,1,0,0], \n",
    "          [0,0,1,1,0,0],\n",
    "          [0,0,0,0,0,0], \n",
    "          [0,0,0,0,0,0]]\n",
    "Z_np = np.array(Z_init)"
   ]
  },
  {
   "cell_type": "code",
   "execution_count": null,
   "metadata": {},
   "outputs": [],
   "source": [
    "import time\n",
    "from utils import calcul_nb_voisins_np\n",
    "# DO NOT REPORT THIS... COMPILATION TIME IS INCLUDED IN THE EXECUTION TIME!\n",
    "start = time.time()\n",
    "print(calcul_nb_voisins_np(Z_np))\n",
    "end = time.time()\n",
    "print(\"Elapsed (including compilation) = %s\" % (end - start))\n",
    "\n",
    "# NOW THE FUNCTION IS COMPILED, RE-TIME IT EXECUTING FROM CACHE.\n",
    "start = time.time()\n",
    "print(calcul_nb_voisins_np(Z_np))\n",
    "end = time.time()\n",
    "print(\"Elapsed (after compilation) = %s\" % (end - start))\n",
    "\n",
    "# NOT USING NUMBA.JIT() TO COMPARE RUNNING TIMES. \n",
    "start = time.time()\n",
    "print(calcul_nb_voisins(Z_init))\n",
    "end = time.time()\n",
    "print(\"Elapsed (not using numba.jit()) = %s\" % (end-start))"
   ]
  },
  {
   "cell_type": "markdown",
   "metadata": {},
   "source": [
    "On a la même matrice qu'en question 4, mais c'est assez efficace de ne pas utiliser `numba`. Pour comparer le temps utilisé pour question 5, on fait encore une fois le protocole."
   ]
  },
  {
   "cell_type": "code",
   "execution_count": null,
   "metadata": {},
   "outputs": [],
   "source": [
    "from utils import iteration_jeu_np\n",
    "# DO NOT REPORT THIS... COMPILATION TIME IS INCLUDED IN THE EXECUTION TIME!\n",
    "start = time.time()\n",
    "plotJeuDeLaVie(10,Z_np,iteration_jeu_np)\n",
    "end = time.time()\n",
    "print(\"Elapsed (including compilation) = %s\" % (end - start))"
   ]
  },
  {
   "cell_type": "code",
   "execution_count": null,
   "metadata": {},
   "outputs": [],
   "source": [
    "# NOW THE FUNCTION IS COMPILED, RE-TIME IT EXECUTING FROM CACHE.\n",
    "start = time.time()\n",
    "plotJeuDeLaVie(10,Z_np,iteration_jeu_np)\n",
    "end = time.time()\n",
    "print(\"Elapsed (after compilation) = %s\" % (end - start))"
   ]
  },
  {
   "cell_type": "code",
   "execution_count": null,
   "metadata": {},
   "outputs": [],
   "source": [
    "# NOT USING NUMBA.JIT() TO COMPARE RUNNING TIMES. \n",
    "start = time.time()\n",
    "plotJeuDeLaVie(10,Z_np,iteration_jeu)\n",
    "end = time.time()\n",
    "print(\"Elapsed (not using numba.jit()) = %s\" % (end-start))"
   ]
  },
  {
   "cell_type": "markdown",
   "metadata": {},
   "source": [
    "On ne voit pas que c'est plus efficace à utiliser jit dans ce cas là."
   ]
  },
  {
   "cell_type": "markdown",
   "metadata": {},
   "source": [
    "### Question 8"
   ]
  },
  {
   "cell_type": "code",
   "execution_count": null,
   "metadata": {},
   "outputs": [],
   "source": [
    "def plotJeuDeLaVie_q8(nbIterations,Z,iter_func):\n",
    "    \"\"\"\n",
    "    Plotting the evolution of the matrices of Jeu de La Vie.\n",
    "    \"\"\"\n",
    "    Zcopy = Z.copy()\n",
    "    plt.figure(figsize=(20,10))\n",
    "    plt.subplot2grid((6,5), (0,0)) # Have to use subplot2grid instead of subplot for > 10 subplots.\n",
    "    plt.title(\"Iteration 0\")\n",
    "    plt.imshow(Zcopy)\n",
    "    for i in range(6):\n",
    "        for j in range(5):\n",
    "            if ((i*5+j)>=nbIterations):\n",
    "                break\n",
    "            plt.subplot2grid((6,5), (i,j))\n",
    "            Zcopy = iter_func(Zcopy)\n",
    "            plt.title(\"iteration \"+str(i*5+j))\n",
    "            plt.imshow(Zcopy)\n"
   ]
  },
  {
   "cell_type": "code",
   "execution_count": null,
   "metadata": {},
   "outputs": [],
   "source": [
    "from ipywidgets import interact,fixed\n",
    "\n",
    "interact(plotJeuDeLaVie_q8, nbIterations=(0,30,1),Z=fixed(Z_np),iter_func = fixed(iteration_jeu_np))"
   ]
  },
  {
   "cell_type": "code",
   "execution_count": null,
   "metadata": {},
   "outputs": [],
   "source": [
    "n = 100\n",
    "Z_huge = np.zeros((n,n))\n",
    "Z_huge[10:16,10:16] = Z_np"
   ]
  },
  {
   "cell_type": "code",
   "execution_count": null,
   "metadata": {},
   "outputs": [],
   "source": [
    "plotJeuDeLaVie_q8(7,Z_huge,iteration_jeu_np)"
   ]
  },
  {
   "cell_type": "code",
   "execution_count": null,
   "metadata": {},
   "outputs": [],
   "source": [
    "# DO NOT REPORT THIS... COMPILATION TIME IS INCLUDED IN THE EXECUTION TIME!\n",
    "start = time.time()\n",
    "calcul_nb_voisins_np(Z_huge)\n",
    "end = time.time()\n",
    "print(\"Elapsed (including compilation) = %s\" % (end - start))\n",
    "\n",
    "# NOW THE FUNCTION IS COMPILED, RE-TIME IT EXECUTING FROM CACHE\n",
    "start = time.time()\n",
    "calcul_nb_voisins_np(Z_huge)\n",
    "end = time.time()\n",
    "print(\"Elapsed (after compilation) = %s\" % (end - start))\n",
    "\n",
    "# \n",
    "start = time.time()\n",
    "calcul_np_voisins(Z_huge)\n",
    "end = time.time()\n",
    "print(\"Elapsed (not using numba.jit()) = %s\" % (end-start))"
   ]
  }
 ],
 "metadata": {
  "kernelspec": {
   "display_name": "Python 3",
   "language": "python",
   "name": "python3"
  },
  "language_info": {
   "codemirror_mode": {
    "name": "ipython",
    "version": 3
   },
   "file_extension": ".py",
   "mimetype": "text/x-python",
   "name": "python",
   "nbconvert_exporter": "python",
   "pygments_lexer": "ipython3",
   "version": "3.6.4"
  }
 },
 "nbformat": 4,
 "nbformat_minor": 2
}
