{
 "cells": [
  {
   "cell_type": "markdown",
   "metadata": {},
   "source": [
    "# TP - HMMA238"
   ]
  },
  {
   "cell_type": "markdown",
   "metadata": {},
   "source": [
    "By Mathias Gout and Julie Røste."
   ]
  },
  {
   "cell_type": "code",
   "execution_count": 7,
   "metadata": {},
   "outputs": [],
   "source": [
    "import numpy as np\n",
    "import matplotlib.pyplot as plt\n"
   ]
  },
  {
   "cell_type": "markdown",
   "metadata": {},
   "source": [
    "## Exercice 1 - Le jeu de la vie"
   ]
  },
  {
   "cell_type": "code",
   "execution_count": 8,
   "metadata": {},
   "outputs": [
    {
     "data": {
      "text/plain": [
       "[[0, 0, 0, 0, 0, 0],\n",
       " [0, 1, 3, 1, 2, 0],\n",
       " [0, 1, 5, 3, 3, 0],\n",
       " [0, 2, 3, 2, 2, 0],\n",
       " [0, 1, 2, 2, 1, 0],\n",
       " [0, 0, 0, 0, 0, 0]]"
      ]
     },
     "execution_count": 8,
     "metadata": {},
     "output_type": "execute_result"
    }
   ],
   "source": [
    "# Question 4\n",
    "\n",
    "from utils import calcul_nb_voisins\n",
    "\n",
    "Z = [[0,0,0,0,0,0], \n",
    "     [0,0,0,1,0,0], \n",
    "     [0,1,0,1,0,0], \n",
    "     [0,0,1,1,0,0],\n",
    "     [0,0,0,0,0,0], \n",
    "     [0,0,0,0,0,0]]\n",
    "     \n",
    "calcul_nb_voisins(Z)\n",
    "\n",
    "# calcul_nb_voisins(Z) renvoie le nombre de voisins vivants de chaque cellule.\n"
   ]
  },
  {
   "cell_type": "code",
   "execution_count": null,
   "metadata": {},
   "outputs": [],
   "source": []
  }
 ],
 "metadata": {
  "kernelspec": {
   "display_name": "Python 3",
   "language": "python",
   "name": "python3"
  },
  "language_info": {
   "codemirror_mode": {
    "name": "ipython",
    "version": 3
   },
   "file_extension": ".py",
   "mimetype": "text/x-python",
   "name": "python",
   "nbconvert_exporter": "python",
   "pygments_lexer": "ipython3",
   "version": "3.7.3"
  }
 },
 "nbformat": 4,
 "nbformat_minor": 2
}
