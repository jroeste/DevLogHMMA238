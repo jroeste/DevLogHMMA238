{
 "cells": [
  {
   "cell_type": "markdown",
   "metadata": {},
   "source": [
    "# TP - HMMA238"
   ]
  },
  {
   "cell_type": "markdown",
   "metadata": {},
   "source": [
    "Par Mathias Gout et Julie Røste."
   ]
  },
  {
   "cell_type": "code",
   "execution_count": 1,
   "metadata": {},
   "outputs": [],
   "source": [
    "import numpy as np\n",
    "import matplotlib.pyplot as plt\n",
    "plt.rcParams[\"figure.figsize\"] = (17,8)"
   ]
  },
  {
   "cell_type": "markdown",
   "metadata": {},
   "source": [
    "## Exercice 1 - Le jeu de la vie"
   ]
  },
  {
   "cell_type": "markdown",
   "metadata": {},
   "source": [
    "### Question 4:"
   ]
  },
  {
   "cell_type": "code",
   "execution_count": 2,
   "metadata": {},
   "outputs": [
    {
     "data": {
      "text/plain": [
       "[[0, 0, 0, 0, 0, 0],\n",
       " [0, 1, 3, 1, 2, 0],\n",
       " [0, 1, 5, 3, 3, 0],\n",
       " [0, 2, 3, 2, 2, 0],\n",
       " [0, 1, 2, 2, 1, 0],\n",
       " [0, 0, 0, 0, 0, 0]]"
      ]
     },
     "execution_count": 2,
     "metadata": {},
     "output_type": "execute_result"
    }
   ],
   "source": [
    "from utils import calcul_nb_voisins\n",
    "\n",
    "Z_init = [[0,0,0,0,0,0], \n",
    "          [0,0,0,1,0,0], \n",
    "          [0,1,0,1,0,0], \n",
    "          [0,0,1,1,0,0],\n",
    "          [0,0,0,0,0,0], \n",
    "          [0,0,0,0,0,0]]\n",
    "     \n",
    "\n",
    "calcul_nb_voisins(Z_init)"
   ]
  },
  {
   "cell_type": "markdown",
   "metadata": {},
   "source": [
    "calcul_nb_voisins(Z) affiche le nombre de voisins vivants de chaque cellules"
   ]
  },
  {
   "cell_type": "markdown",
   "metadata": {},
   "source": [
    "### Question 5:"
   ]
  },
  {
   "cell_type": "code",
   "execution_count": 3,
   "metadata": {},
   "outputs": [
    {
     "data": {
      "image/png": "[encoded data removed]",
      "text/plain": [
       "<Figure size 432x288 with 10 Axes>"
      ]
     },
     "metadata": {
      "needs_background": "light"
     },
     "output_type": "display_data"
    }
   ],
   "source": [
    "from utils import iteration_jeu\n",
    "\n",
    "Z = np.asarray(Z_init)\n",
    "nbIterations = 10\n",
    "#plt.figure(figsize=(10,5))\n",
    "plt.subplot(2,5,1)\n",
    "plt.title(\"Iter. 0\")\n",
    "plt.imshow(Z)\n",
    "for i in range(2,nbIterations+1):\n",
    "    plt.subplot(2,5,i)\n",
    "    Z = iteration_jeu(Z)\n",
    "    plt.title(\"Iter. \"+str(i-1))\n",
    "    plt.imshow(Z)"
   ]
  },
  {
   "cell_type": "markdown",
   "metadata": {},
   "source": [
    "### Question 6:\n",
    "\n",
    "On remarque que les cellules vivantes de l'itération 0 sont disposées de la même façon que celles de l'itération 4. \n",
    "<br/>Entre l'itération 0 et 4, les cellules vivantes se sont toutes déplacées d'une cellule en bas et d'une cellule à droite.\n",
    "\n",
    "A partir de l'itération 7, les cellules ne changent plus d'état. \n",
    "Les quatres cellules vivantes sont regroupées en bas à droite et ont toutes 3 voisins vivants (aucun décès possible).\n",
    "<br/>Comme aucune cellule morte n'a 3 voisins vivants (pas de naissance possible), il n'y aura pas d'évolution dans les prochaines itérations.\n"
   ]
  },
  {
   "cell_type": "markdown",
   "metadata": {},
   "source": [
    "## Exercice 2 - Régression logistique"
   ]
  },
  {
   "cell_type": "markdown",
   "metadata": {},
   "source": [
    "### Question 1:"
   ]
  },
  {
   "cell_type": "code",
   "execution_count": null,
   "metadata": {},
   "outputs": [],
   "source": [
    "from sklearn.datasets import fetch_openml\n",
    "\n",
    "mnist = fetch_openml('mnist_784')"
   ]
  },
  {
   "cell_type": "code",
   "execution_count": null,
   "metadata": {},
   "outputs": [],
   "source": [
    "X = mnist.data.astype('float64') \n",
    "y = mnist.target.astype('float64')"
   ]
  },
  {
   "cell_type": "markdown",
   "metadata": {},
   "source": [
    "### Question 2:"
   ]
  },
  {
   "cell_type": "code",
   "execution_count": null,
   "metadata": {},
   "outputs": [],
   "source": [
    "# On garde que les 3 et 7\n",
    "X = X[(y == 3) + (y == 7)] \n",
    "y = y[(y == 3) + (y == 7)] \n",
    "\n",
    "# Premier individu de la classe 3 et 7\n",
    "premier_3 = np.where(y == 3)[0][0]\n",
    "premier_7 = np.where(y == 7)[0][0]\n",
    "\n",
    "# On affiche les 2 individus\n",
    "plt.subplot(1, 2, 1)\n",
    "plt.title(\"1er ind. de la classe 3\")\n",
    "plt.imshow(X[premier_3].reshape(28,28))\n",
    "plt.subplot(1, 2, 2)\n",
    "plt.title(\"1er ind. de la classe 7\")\n",
    "plt.imshow(X[premier_7].reshape(28,28))\n"
   ]
  },
  {
   "cell_type": "markdown",
   "metadata": {},
   "source": [
    "### Question 3:"
   ]
  },
  {
   "cell_type": "code",
   "execution_count": null,
   "metadata": {},
   "outputs": [],
   "source": [
    "from sklearn.linear_model import LogisticRegression \n",
    "\n",
    "reg_log = LogisticRegression(fit_intercept=False, solver='liblinear').fit(X, y)"
   ]
  },
  {
   "cell_type": "code",
   "execution_count": null,
   "metadata": {},
   "outputs": [],
   "source": []
  }
 ],
 "metadata": {
  "kernelspec": {
   "display_name": "Python 3",
   "language": "python",
   "name": "python3"
  },
  "language_info": {
   "codemirror_mode": {
    "name": "ipython",
    "version": 3
   },
   "file_extension": ".py",
   "mimetype": "text/x-python",
   "name": "python",
   "nbconvert_exporter": "python",
   "pygments_lexer": "ipython3",
   "version": "3.7.3"
  }
 },
 "nbformat": 4,
 "nbformat_minor": 2
}
