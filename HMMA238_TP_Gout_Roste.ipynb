{
 "cells": [
  {
   "cell_type": "markdown",
   "metadata": {},
   "source": [
    "# TP - HMMA238"
   ]
  },
  {
   "cell_type": "markdown",
   "metadata": {},
   "source": [
    "Par Mathias Gout et Julie Røste."
   ]
  },
  {
   "cell_type": "code",
   "execution_count": 1,
   "metadata": {},
   "outputs": [],
   "source": [
    "import numpy as np\n",
    "import matplotlib.pyplot as plt\n",
    "import matplotlib.animation as animation\n",
    "plt.rcParams[\"figure.figsize\"] = (17,8)"
   ]
  },
  {
   "cell_type": "markdown",
   "metadata": {},
   "source": [
    "## Exercice 1 - Le jeu de la vie"
   ]
  },
  {
   "cell_type": "markdown",
   "metadata": {},
   "source": [
    "### Implémentation sans `numpy`"
   ]
  },
  {
   "cell_type": "markdown",
   "metadata": {},
   "source": [
    "### Question 4:"
   ]
  },
  {
   "cell_type": "code",
   "execution_count": 2,
   "metadata": {},
   "outputs": [
    {
     "data": {
      "text/plain": [
       "[[0, 0, 0, 0, 0, 0],\n",
       " [0, 1, 3, 1, 2, 0],\n",
       " [0, 1, 5, 3, 3, 0],\n",
       " [0, 2, 3, 2, 2, 0],\n",
       " [0, 1, 2, 2, 1, 0],\n",
       " [0, 0, 0, 0, 0, 0]]"
      ]
     },
     "execution_count": 2,
     "metadata": {},
     "output_type": "execute_result"
    }
   ],
   "source": [
    "from utils import calcul_nb_voisins\n",
    "from utils import iteration_jeu\n",
    "Z_init = [[0,0,0,0,0,0], \n",
    "          [0,0,0,1,0,0], \n",
    "          [0,1,0,1,0,0], \n",
    "          [0,0,1,1,0,0],\n",
    "          [0,0,0,0,0,0], \n",
    "          [0,0,0,0,0,0]]\n",
    "     \n",
    "\n",
    "calcul_nb_voisins(Z_init)"
   ]
  },
  {
   "cell_type": "markdown",
   "metadata": {},
   "source": [
    "`calcul_nb_voisins(Z)` affiche le nombre de voisins vivants de chaque cellules"
   ]
  },
  {
   "cell_type": "markdown",
   "metadata": {},
   "source": [
    "### Question 5:"
   ]
  },
  {
   "cell_type": "code",
   "execution_count": 3,
   "metadata": {},
   "outputs": [
    {
     "data": {
      "text/plain": [
       "[[0, 0, 0, 0, 0, 0],\n",
       " [0, 0, 0, 1, 0, 0],\n",
       " [0, 1, 0, 1, 0, 0],\n",
       " [0, 0, 1, 1, 0, 0],\n",
       " [0, 0, 0, 0, 0, 0],\n",
       " [0, 0, 0, 0, 0, 0]]"
      ]
     },
     "execution_count": 3,
     "metadata": {},
     "output_type": "execute_result"
    }
   ],
   "source": [
    "# On rappelle que l'on a renommé Z par Z_init\n",
    "Z_init"
   ]
  },
  {
   "cell_type": "code",
   "execution_count": 4,
   "metadata": {},
   "outputs": [
    {
     "data": {
      "text/plain": [
       "<matplotlib.image.AxesImage at 0x21abd533710>"
      ]
     },
     "execution_count": 4,
     "metadata": {},
     "output_type": "execute_result"
    },
    {
     "data": {
      "image/png": "[encoded data removed]",
      "text/plain": [
       "<Figure size 1080x432 with 10 Axes>"
      ]
     },
     "metadata": {
      "needs_background": "light"
     },
     "output_type": "display_data"
    }
   ],
   "source": [
    "from utils import plotJeuDeLaVie\n",
    "\n",
    "plotJeuDeLaVie(10, np.asarray(Z_init), iteration_jeu)"
   ]
  },
  {
   "cell_type": "markdown",
   "metadata": {},
   "source": [
    "### Question 6:\n",
    "\n",
    "On remarque que les cellules vivantes de l'itération 0 sont disposées de la même façon que celles de l'itération 4. \n",
    "<br/>Entre l'itération 0 et 4, les cellules vivantes se sont toutes déplacées d'une cellule en bas et d'une cellule à droite.\n",
    "\n",
    "A partir de l'itération 7, les cellules ne changent plus d'état. \n",
    "Les quatres cellules vivantes sont regroupées en bas à droite et ont toutes 3 voisins vivants (aucun décès possible).\n",
    "<br/>Comme aucune cellule morte n'a 3 voisins vivants (pas de naissance possible), il n'y aura pas d'évolution dans les prochaines itérations.\n"
   ]
  },
  {
   "cell_type": "markdown",
   "metadata": {},
   "source": [
    "### Implémentation avec `numba`"
   ]
  },
  {
   "cell_type": "markdown",
   "metadata": {},
   "source": [
    "### Question 7:"
   ]
  },
  {
   "cell_type": "code",
   "execution_count": 5,
   "metadata": {},
   "outputs": [],
   "source": [
    "from numba import jit"
   ]
  },
  {
   "cell_type": "markdown",
   "metadata": {},
   "source": [
    "Comments: Have to rewrite functions to numpy, it not it didn't work..... So they are rewritten in utils to `calcul_np_voisins_np` and `iteration_jeu_np`. "
   ]
  },
  {
   "cell_type": "code",
   "execution_count": 6,
   "metadata": {},
   "outputs": [],
   "source": [
    "# Rappel\n",
    "Z_init = [[0,0,0,0,0,0],\n",
    "          [0,0,0,1,0,0], \n",
    "          [0,1,0,1,0,0], \n",
    "          [0,0,1,1,0,0],\n",
    "          [0,0,0,0,0,0], \n",
    "          [0,0,0,0,0,0]]\n",
    "\n",
    "Z_np = np.array(Z_init)"
   ]
  },
  {
   "cell_type": "code",
   "execution_count": 7,
   "metadata": {},
   "outputs": [
    {
     "name": "stdout",
     "output_type": "stream",
     "text": [
      "[[0. 0. 0. 0. 0. 0.]\n",
      " [0. 1. 3. 1. 2. 0.]\n",
      " [0. 1. 5. 3. 3. 0.]\n",
      " [0. 2. 3. 2. 2. 0.]\n",
      " [0. 1. 2. 2. 1. 0.]\n",
      " [0. 0. 0. 0. 0. 0.]]\n",
      "Elapsed (including compilation) = 0.38129162788391113\n",
      "[[0. 0. 0. 0. 0. 0.]\n",
      " [0. 1. 3. 1. 2. 0.]\n",
      " [0. 1. 5. 3. 3. 0.]\n",
      " [0. 2. 3. 2. 2. 0.]\n",
      " [0. 1. 2. 2. 1. 0.]\n",
      " [0. 0. 0. 0. 0. 0.]]\n",
      "Elapsed (after compilation) = 0.0005011558532714844\n",
      "[[0, 0, 0, 0, 0, 0], [0, 1, 3, 1, 2, 0], [0, 1, 5, 3, 3, 0], [0, 2, 3, 2, 2, 0], [0, 1, 2, 2, 1, 0], [0, 0, 0, 0, 0, 0]]\n",
      "Elapsed (not using numba.jit()) = 0.0004966259002685547\n"
     ]
    }
   ],
   "source": [
    "import time\n",
    "from utils import calcul_nb_voisins_np\n",
    "# DO NOT REPORT THIS... COMPILATION TIME IS INCLUDED IN THE EXECUTION TIME!\n",
    "start = time.time()\n",
    "print(calcul_nb_voisins_np(Z_np))\n",
    "end = time.time()\n",
    "print(\"Elapsed (including compilation) = %s\" % (end - start))\n",
    "\n",
    "# NOW THE FUNCTION IS COMPILED, RE-TIME IT EXECUTING FROM CACHE.\n",
    "start = time.time()\n",
    "print(calcul_nb_voisins_np(Z_np))\n",
    "end = time.time()\n",
    "print(\"Elapsed (after compilation) = %s\" % (end - start))\n",
    "\n",
    "# NOT USING NUMBA.JIT() TO COMPARE RUNNING TIMES. \n",
    "start = time.time()\n",
    "print(calcul_nb_voisins(Z_init))\n",
    "end = time.time()\n",
    "print(\"Elapsed (not using numba.jit()) = %s\" % (end-start))"
   ]
  },
  {
   "cell_type": "markdown",
   "metadata": {},
   "source": [
    "Nous retrouvons la même matrice qu'à la question 4, mais c'est assez efficace de ne pas utiliser `numba`. Pour comparer le temps utilisé pour question 5, on fait encore une fois le protocole pour afficher les matrices."
   ]
  },
  {
   "cell_type": "code",
   "execution_count": 8,
   "metadata": {},
   "outputs": [
    {
     "name": "stdout",
     "output_type": "stream",
     "text": [
      "Elapsed (including compilation) = 0.37679553031921387\n"
     ]
    },
    {
     "data": {
      "image/png": "[encoded data removed]",
      "text/plain": [
       "<Figure size 1080x432 with 10 Axes>"
      ]
     },
     "metadata": {
      "needs_background": "light"
     },
     "output_type": "display_data"
    }
   ],
   "source": [
    "from utils import iteration_jeu_np\n",
    "# DO NOT REPORT THIS... COMPILATION TIME IS INCLUDED IN THE EXECUTION TIME!\n",
    "start = time.time()\n",
    "plotJeuDeLaVie(10, Z_np, iteration_jeu_np)\n",
    "end = time.time()\n",
    "print(\"Elapsed (including compilation) = %s\" % (end - start))"
   ]
  },
  {
   "cell_type": "code",
   "execution_count": 9,
   "metadata": {},
   "outputs": [
    {
     "name": "stdout",
     "output_type": "stream",
     "text": [
      "Elapsed (after compilation) = 0.18067622184753418\n"
     ]
    },
    {
     "data": {
      "image/png": "[encoded data removed]",
      "text/plain": [
       "<Figure size 1080x432 with 10 Axes>"
      ]
     },
     "metadata": {
      "needs_background": "light"
     },
     "output_type": "display_data"
    }
   ],
   "source": [
    "# NOW THE FUNCTION IS COMPILED, RE-TIME IT EXECUTING FROM CACHE.\n",
    "start = time.time()\n",
    "plotJeuDeLaVie(10, Z_np, iteration_jeu_np)\n",
    "end = time.time()\n",
    "print(\"Elapsed (after compilation) = %s\" % (end - start))"
   ]
  },
  {
   "cell_type": "code",
   "execution_count": 10,
   "metadata": {},
   "outputs": [
    {
     "name": "stdout",
     "output_type": "stream",
     "text": [
      "Elapsed (not using numba.jit()) = 0.11030745506286621\n"
     ]
    },
    {
     "data": {
      "image/png": "[encoded data removed]",
      "text/plain": [
       "<Figure size 1080x432 with 10 Axes>"
      ]
     },
     "metadata": {
      "needs_background": "light"
     },
     "output_type": "display_data"
    }
   ],
   "source": [
    "# NOT USING NUMBA.JIT() TO COMPARE RUNNING TIMES. \n",
    "start = time.time()\n",
    "plotJeuDeLaVie(10, Z_np, iteration_jeu)\n",
    "end = time.time()\n",
    "print(\"Elapsed (not using numba.jit()) = %s\" % (end-start))"
   ]
  },
  {
   "cell_type": "markdown",
   "metadata": {},
   "source": [
    "On ne voit pas que c'est plus efficace à utiliser jit dans ce cas là."
   ]
  },
  {
   "cell_type": "markdown",
   "metadata": {},
   "source": [
    "### Question 8:"
   ]
  },
  {
   "cell_type": "code",
   "execution_count": null,
   "metadata": {},
   "outputs": [],
   "source": [
    "def plotJeuDeLaVie_manySP(nbIterations, Z, iter_func):\n",
    "    \"\"\"\n",
    "    Plotting the evolution of the matrices of Jeu de La Vie.\n",
    "    \"\"\"\n",
    "    Zcopy = Z.copy()\n",
    "    plt.figure(figsize=(15,15))\n",
    "    for i in range(6):\n",
    "        for j in range(5):\n",
    "            if ((i*5+j)>=nbIterations):\n",
    "                break\n",
    "            plt.subplot2grid((6,5), (i,j)) # Have to use subplot2grid instead of subplot for > 10 subplots.\n",
    "            plt.title(\"iteration \"+str(i*5+j))\n",
    "            if (i==0 and j==0):\n",
    "                plt.imshow(Zcopy)\n",
    "            else:\n",
    "                Zcopy = iter_func(Zcopy)\n",
    "                plt.imshow(Zcopy)\n",
    "    plt.tight_layout()"
   ]
  },
  {
   "cell_type": "code",
   "execution_count": null,
   "metadata": {},
   "outputs": [],
   "source": [
    "from ipywidgets import interact,fixed\n",
    "from utils import iteration_jeu_np\n",
    "\n",
    "interact(plotJeuDeLaVie_manySP, nbIterations=(0,30,1),Z=fixed(Z_np),iter_func = fixed(iteration_jeu_np))"
   ]
  },
  {
   "cell_type": "code",
   "execution_count": null,
   "metadata": {},
   "outputs": [],
   "source": [
    "n = 20\n",
    "Z_huge = np.zeros((n,n))\n",
    "Z_huge[10:16,10:16] = Z_np\n",
    "\n",
    "interact(plotJeuDeLaVie_manySP,nbIterations=(0,30,1),Z=fixed(Z_huge),iter_func = fixed(iteration_jeu_np))"
   ]
  },
  {
   "cell_type": "code",
   "execution_count": null,
   "metadata": {},
   "outputs": [],
   "source": [
    "plotJeuDeLaVie_manySP(50,Z_huge,iteration_jeu_np)"
   ]
  },
  {
   "cell_type": "markdown",
   "metadata": {},
   "source": [
    "Avec $n=20$, la matrice `Z_huge` converge au 24 iteration. "
   ]
  },
  {
   "cell_type": "markdown",
   "metadata": {},
   "source": [
    "## Exercice 2 - Régression logistique"
   ]
  },
  {
   "cell_type": "markdown",
   "metadata": {},
   "source": [
    "### Question 1:"
   ]
  },
  {
   "cell_type": "code",
   "execution_count": null,
   "metadata": {},
   "outputs": [],
   "source": [
    "from sklearn.datasets import fetch_openml\n",
    "\n",
    "mnist = fetch_openml('mnist_784')"
   ]
  },
  {
   "cell_type": "code",
   "execution_count": null,
   "metadata": {},
   "outputs": [],
   "source": [
    "X = mnist.data.astype('float64') \n",
    "y = mnist.target.astype('float64')"
   ]
  },
  {
   "cell_type": "markdown",
   "metadata": {},
   "source": [
    "### Question 2:"
   ]
  },
  {
   "cell_type": "code",
   "execution_count": null,
   "metadata": {},
   "outputs": [],
   "source": [
    "# On garde que les 3 et 7\n",
    "X = X[(y==3) + (y==7)] \n",
    "y = y[(y==3) + (y==7)] \n",
    "\n",
    "# Premier individu de la classe 3 et 7\n",
    "premier_3 = np.where(y==3)[0][0]\n",
    "premier_7 = np.where(y==7)[0][0]\n",
    "\n",
    "# On affiche les 2 individus\n",
    "plt.subplot(1, 2, 1)\n",
    "plt.title(\"1er ind. de la classe 3\")\n",
    "plt.imshow(X[premier_3].reshape(28,28))\n",
    "plt.subplot(1, 2, 2)\n",
    "plt.title(\"1er ind. de la classe 7\")\n",
    "plt.imshow(X[premier_7].reshape(28,28))"
   ]
  },
  {
   "cell_type": "markdown",
   "metadata": {},
   "source": [
    "### Question 3:"
   ]
  },
  {
   "cell_type": "code",
   "execution_count": null,
   "metadata": {},
   "outputs": [],
   "source": [
    "from sklearn.linear_model import LogisticRegression \n",
    "\n",
    "# Regression logistique \n",
    "reg_log = LogisticRegression(fit_intercept=False, solver='liblinear').fit(X, y)"
   ]
  },
  {
   "cell_type": "markdown",
   "metadata": {},
   "source": [
    "### Question 4:"
   ]
  },
  {
   "cell_type": "code",
   "execution_count": null,
   "metadata": {},
   "outputs": [],
   "source": [
    "from ipywidgets import interact, fixed\n",
    "from utils import fig_digit "
   ]
  },
  {
   "cell_type": "code",
   "execution_count": null,
   "metadata": {},
   "outputs": [],
   "source": [
    "# Nous avons fait varier alpha de 1 en 1 pour plus de fluidité\n",
    "interact(fig_digit, x=fixed(X[premier_7]), w=fixed(reg_log.coef_), alpha=(0,100,1));"
   ]
  },
  {
   "cell_type": "markdown",
   "metadata": {},
   "source": [
    "### Question 5:"
   ]
  },
  {
   "cell_type": "code",
   "execution_count": null,
   "metadata": {},
   "outputs": [],
   "source": [
    "fig = plt.figure()\n",
    "ax = plt.axes(xlim=(0, 27), ylim=(27, 0))\n",
    "ims = []\n",
    "\n",
    "for i in range(100):\n",
    "    im = fig_digit(X[premier_7], reg_log.coef_, i)\n",
    "    ims.append([im])\n",
    "    \n",
    "anim = animation.ArtistAnimation(fig, ims, interval=50, blit=True, repeat_delay=1000)\n",
    "\n",
    "anim.to_html5_video()\n",
    "plt.show()"
   ]
  },
  {
   "cell_type": "code",
   "execution_count": null,
   "metadata": {},
   "outputs": [],
   "source": []
  }
 ],
 "metadata": {
  "kernelspec": {
   "display_name": "Python 3",
   "language": "python",
   "name": "python3"
  },
  "language_info": {
   "codemirror_mode": {
    "name": "ipython",
    "version": 3
   },
   "file_extension": ".py",
   "mimetype": "text/x-python",
   "name": "python",
   "nbconvert_exporter": "python",
   "pygments_lexer": "ipython3",
   "version": "3.7.3"
  }
 },
 "nbformat": 4,
 "nbformat_minor": 2
}
