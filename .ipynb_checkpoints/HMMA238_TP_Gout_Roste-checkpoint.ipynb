{
 "cells": [
  {
   "cell_type": "markdown",
   "metadata": {},
   "source": [
    "# TP - HMMA238"
   ]
  },
  {
   "cell_type": "markdown",
   "metadata": {},
   "source": [
    "By Mathias Gout and Julie Røste."
   ]
  },
  {
   "cell_type": "code",
   "execution_count": 7,
   "metadata": {},
   "outputs": [],
   "source": [
    "import numpy as np\n",
    "import matplotlib.pyplot as plt"
   ]
  },
  {
   "cell_type": "markdown",
   "metadata": {},
   "source": [
    "## Exercice 1 - Le jeu de la vie"
   ]
  },
  {
   "cell_type": "code",
   "execution_count": 55,
   "metadata": {},
   "outputs": [
    {
     "data": {
      "text/plain": [
       "<matplotlib.image.AxesImage at 0x2ac94e38320>"
      ]
     },
     "execution_count": 55,
     "metadata": {},
     "output_type": "execute_result"
    },
    {
     "data": {
      "image/png": "[encoded data removed]",
      "text/plain": [
       "<matplotlib.figure.Figure at 0x2ac948fb828>"
      ]
     },
     "metadata": {},
     "output_type": "display_data"
    }
   ],
   "source": [
    "# Question 4\n",
    "\n",
    "from utils import calcul_nb_voisins\n",
    "\n",
    "Z_init = [[0,0,0,0,0,0], \n",
    "     [0,0,0,1,0,0], \n",
    "     [0,1,0,1,0,0], \n",
    "     [0,0,1,1,0,0],\n",
    "     [0,0,0,0,0,0], \n",
    "     [0,0,0,0,0,0]]\n",
    "     \n",
    "calcul_nb_voisins(Z_init)\n",
    "plt.imshow(Z_init)\n",
    "\n",
    "# calcul_nb_voisins(Z) renvoie le nombre de voisins vivants de chaque cellule.\n"
   ]
  },
  {
   "cell_type": "code",
   "execution_count": 60,
   "metadata": {},
   "outputs": [
    {
     "data": {
      "image/png": "[encoded data removed]",
      "text/plain": [
       "<matplotlib.figure.Figure at 0x2ac94cf6710>"
      ]
     },
     "metadata": {},
     "output_type": "display_data"
    }
   ],
   "source": [
    "# Question 5\n",
    "\n",
    "from utils import iteration_jeu\n",
    "\n",
    "Z = np.asarray(Z_init)\n",
    "nbIterations = 10\n",
    "plt.figure(figsize=(10,5))\n",
    "plt.subplot(2,5,1)\n",
    "plt.title(\"Iter. 0\")\n",
    "plt.imshow(Z)\n",
    "for i in range(2,nbIterations+1):\n",
    "    plt.subplot(2,5,i)\n",
    "    Z = iteration_jeu(Z)\n",
    "    plt.title(\"Iter. \"+str(i-1))\n",
    "    plt.imshow(Z)"
   ]
  }
 ],
 "metadata": {
  "kernelspec": {
   "display_name": "Python 3",
   "language": "python",
   "name": "python3"
  },
  "language_info": {
   "codemirror_mode": {
    "name": "ipython",
    "version": 3
   },
   "file_extension": ".py",
   "mimetype": "text/x-python",
   "name": "python",
   "nbconvert_exporter": "python",
   "pygments_lexer": "ipython3",
   "version": "3.6.4"
  }
 },
 "nbformat": 4,
 "nbformat_minor": 2
}
